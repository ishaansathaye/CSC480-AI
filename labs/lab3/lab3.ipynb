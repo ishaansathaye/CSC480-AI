{
 "cells": [
  {
   "cell_type": "markdown",
   "metadata": {},
   "source": [
    "# Lab 3"
   ]
  },
  {
   "cell_type": "markdown",
   "metadata": {},
   "source": [
    "## Part 1: Introduction to Uninformed Search Algorithms"
   ]
  },
  {
   "cell_type": "markdown",
   "metadata": {},
   "source": [
    "Compare and contrast the different uninformed search algorithms: BFS, DFS, UCS, and Iterative Deepening Search.\n",
    "- BFS: \n",
    "    - Complete: Yes, if the branching factor is finite.\n",
    "    - Optimal: Yes, if the cost is the same for all edges.\n",
    "    - Time complexity: O(b^d)\n",
    "    - Space complexity: O(b^d)\n",
    "- DFS:\n",
    "    - Complete: No, if the tree is infinite.\n",
    "    - Optimal: No, if the cost is the same for all edges.\n",
    "    - Time complexity: O(b^m)\n",
    "    - Space complexity: O(bm)\n",
    "- UCS:\n",
    "    - Complete: Yes, if the cost is the same for all edges.\n",
    "    - Optimal: Yes, if the cost is the same for all edges.\n",
    "    - Time complexity: O(b^d)\n",
    "    - Space complexity: O(b^d)\n",
    "- Iterative Deepening Search:\n",
    "    - Complete: Yes, if the branching factor is finite.\n",
    "    - Optimal: Yes, if the cost is the same for all edges.\n",
    "    - Time complexity: O(b^d)\n",
    "    - Space complexity: O(bd)\n",
    "- BFS is the most efficient algorithm in terms of time and space complexity, but it is not optimal if the cost is not the same for all edges. DFS is the least efficient algorithm in terms of space complexity, but it is not optimal if the cost is not the same for all edges. UCS is the most efficient algorithm in terms of space complexity, but it is not optimal if the cost is not the same for all edges. Iterative Deepening Search is the most efficient algorithm in terms of space complexity, but it is not optimal if the cost is not the same for all edges."
   ]
  },
  {
   "cell_type": "markdown",
   "metadata": {},
   "source": [
    "Discuss scenarios where each algorithm would be most effective.\n",
    "- BFS: When the branching factor is finite and the cost is the same for all edges.\n",
    "- DFS: When the tree is infinite and the cost is the same for all edges.\n",
    "- UCS: When the cost is the same for all edges.\n",
    "- Iterative Deepening Search: When the branching factor is finite and the cost is the same for all edges."
   ]
  },
  {
   "cell_type": "markdown",
   "metadata": {},
   "source": [
    "## Part 2: Implementing Uninformed Search Algorithms"
   ]
  },
  {
   "cell_type": "markdown",
   "metadata": {},
   "source": [
    "### Breadth-First Search (BFS)\n"
   ]
  },
  {
   "cell_type": "code",
   "execution_count": 4,
   "metadata": {},
   "outputs": [
    {
     "name": "stdout",
     "output_type": "stream",
     "text": [
      "Current path: A\n",
      "Current path: A->C\n",
      "Current path: A->B\n",
      "Current path: A->C->A\n",
      "Backtracking from A to explore other paths.\n",
      "Current path: A->C->F\n",
      "Path found: A->C->F\n",
      "True\n"
     ]
    }
   ],
   "source": [
    "from collections import deque\n",
    "\n",
    "def bfs(graph, start, goal):\n",
    "    queue = deque([(start, [start])])\n",
    "    visited = set()\n",
    "    \n",
    "    while queue:\n",
    "        node, path = queue.popleft()\n",
    "        print(\"Current path:\", \"->\".join(path))\n",
    "        if node == goal:\n",
    "            print(\"Path found:\", \"->\".join(path))\n",
    "            return True\n",
    "        if node not in visited:\n",
    "            visited.add(node)\n",
    "            for neighbor in graph[node]:\n",
    "                queue.append((neighbor, path + [neighbor]))\n",
    "        else:\n",
    "            print(\"Backtracking from\", node, \"to explore other paths.\")\n",
    "    print(\"Path not found.\")\n",
    "    return False\n",
    "\n",
    "# example:\n",
    "graph = {'A': {'B', 'C'}, 'B': {'A', 'D', 'E'}, 'C': {'A', 'F'}, 'D': {'B'}, 'E': {'B', 'F'}, 'F': {'C', 'E'}}\n",
    "start_node = 'A'\n",
    "goal_node = 'F'\n",
    "print(bfs(graph, start_node, goal_node))\n"
   ]
  },
  {
   "cell_type": "markdown",
   "metadata": {},
   "source": [
    "### Depth-First Search (DFS)"
   ]
  },
  {
   "cell_type": "code",
   "execution_count": 3,
   "metadata": {},
   "outputs": [
    {
     "name": "stdout",
     "output_type": "stream",
     "text": [
      "Current path: A\n",
      "Current path: A->B\n",
      "Current path: A->B->A\n",
      "Backtracking from A to explore other paths.\n",
      "Current path: A->B->D\n",
      "Current path: A->B->D->B\n",
      "Backtracking from B to explore other paths.\n",
      "Current path: A->B->E\n",
      "Current path: A->B->E->F\n",
      "Path found: A->B->E->F\n",
      "True\n"
     ]
    }
   ],
   "source": [
    "def dfs(graph, start, goal):\n",
    "    stack = [(start, [start])]\n",
    "    visited = set()\n",
    "    \n",
    "    while stack:\n",
    "        node, path = stack.pop()\n",
    "        print(\"Current path:\", \"->\".join(path))\n",
    "        if node == goal:\n",
    "            print(\"Path found:\", \"->\".join(path))\n",
    "            return True\n",
    "        if node not in visited:\n",
    "            visited.add(node)\n",
    "            for neighbor in graph[node]:\n",
    "                stack.append((neighbor, path + [neighbor]))\n",
    "        else:\n",
    "            print(\"Backtracking from\", node, \"to explore other paths.\")\n",
    "    print(\"Path not found.\")\n",
    "    return False\n",
    "\n",
    "# example:\n",
    "graph = {'A': {'B', 'C'}, 'B': {'A', 'D', 'E'}, 'C': {'A', 'F'}, 'D': {'B'}, 'E': {'B', 'F'}, 'F': {'C', 'E'}}\n",
    "start_node = 'A'\n",
    "goal_node = 'F'\n",
    "print(dfs(graph, start_node, goal_node))\n"
   ]
  },
  {
   "cell_type": "markdown",
   "metadata": {},
   "source": [
    "### Uniform Cost Search (UCS)"
   ]
  },
  {
   "cell_type": "code",
   "execution_count": 6,
   "metadata": {},
   "outputs": [
    {
     "name": "stdout",
     "output_type": "stream",
     "text": [
      "Current path: A with cost 0\n",
      "Current path: A->B with cost 1\n",
      "Current path: A->B->A with cost 2\n",
      "Backtracking from A to explore other paths.\n",
      "Current path: A->C with cost 2\n",
      "Current path: A->C->A with cost 4\n",
      "Backtracking from A to explore other paths.\n",
      "Current path: A->B->D with cost 4\n",
      "Current path: A->B->E with cost 5\n",
      "Current path: A->B->E->F with cost 6\n",
      "Path found: A->B->E->F with cost 6\n",
      "True\n"
     ]
    }
   ],
   "source": [
    "import heapq\n",
    "\n",
    "def ucs(graph, start, goal):\n",
    "    heap = [(0, start, [start])]\n",
    "    visited = set()\n",
    "    \n",
    "    while heap:\n",
    "        cost, node, path = heapq.heappop(heap)\n",
    "        print(\"Current path:\", \"->\".join(path), \"with cost\", cost)\n",
    "        if node == goal:\n",
    "            print(\"Path found:\", \"->\".join(path), \"with cost\", cost)\n",
    "            return True\n",
    "        if node not in visited:\n",
    "            visited.add(node)\n",
    "            for neighbor, neighbor_cost in graph[node].items():\n",
    "                heapq.heappush(heap, (cost + neighbor_cost, neighbor, path + [neighbor]))\n",
    "        else:\n",
    "            print(\"Backtracking from\", node, \"to explore other paths.\")\n",
    "    print(\"Path not found.\")\n",
    "    return False\n",
    "\n",
    "# example with costs:\n",
    "graph = {'A': {'B': 1, 'C': 2}, 'B': {'A': 1, 'D': 3, 'E': 4}, 'C': {'A': 2, 'F': 5}, 'D': {'B': 3}, 'E': {'B': 4, 'F': 1}, 'F': {'C': 5, 'E': 1}}\n",
    "start_node = 'A'\n",
    "goal_node = 'F'\n",
    "print(ucs(graph, start_node, goal_node))\n"
   ]
  },
  {
   "cell_type": "markdown",
   "metadata": {},
   "source": [
    "## Part 3: Real-World Application - Navigation System"
   ]
  },
  {
   "cell_type": "markdown",
   "metadata": {},
   "source": [
    "Run navigation system: `python3 app.py --algo` where `algo` is one of `bfs`, `dfs`, or `ucs`, "
   ]
  },
  {
   "cell_type": "markdown",
   "metadata": {},
   "source": [
    "Example outputs excluding GUI:\n",
    "- BFS:\n",
    "```shell\n",
    "BFS Path: [(0, 0), (0, 1), (1, 1), (2, 1), (3, 1), (3, 2), (3, 3), (4, 3), (5, 3), (6, 3), (7, 3), (8, 3), (8, 4), (8, 5), (8, 6), (8, 7), (8, 8), (9, 8), (9, 9)]\n",
    "BFS Expanded Nodes: 246\n",
    "BFS Execution Time: 0.00021886825561523438\n",
    "```\n",
    "- DFS:\n",
    "```shell\n",
    "DFS Path: [(0, 0), (0, 1), (0, 2), (0, 3), (0, 4), (0, 5), (0, 6), (0, 7), (0, 8), (0, 9), (1, 9), (1, 8), (1, 7), (2, 7), (2, 6), (2, 5), (2, 4), (2, 3), (2, 2), (2, 1), (3, 1), (3, 0), (4, 0), (4, 1), (4, 2), (5, 2), (5, 1), (6, 1), (6, 2), (6, 3), (6, 4), (6, 5), (6, 6), (6, 7), (6, 8), (6, 9), (7, 9), (7, 8), (8, 8), (8, 9), (9, 9)]\n",
    "DFS Expanded Nodes: 221\n",
    "DFS Execution Time: 0.0002090930938720703\n",
    "```\n",
    "- UCS:\n",
    "```shell\n",
    "Uniform Cost Search Path: [(0, 0), (0, 1), (0, 2), (0, 3), (1, 3), (1, 4), (1, 5), (1, 6), (1, 7), (2, 7), (3, 7), (4, 7), (5, 7), (6, 7), (6, 8), (6, 9), (7, 9), (8, 9), (9, 9)]\n",
    "Uniform Cost Search Expanded Nodes: 240\n",
    "Uniform Cost Search Execution Time: 0.0002589225769042969\n",
    "```"
   ]
  },
  {
   "cell_type": "markdown",
   "metadata": {},
   "source": [
    "From running the navigation system, most of the time UCS was the most efficient algorithm in terms of expanded nodes and execution time for the random map generated. DFS was the least efficient as most of the time it took a while to find the path. BFS was also efficient but not as efficient as UCS."
   ]
  }
 ],
 "metadata": {
  "kernelspec": {
   "display_name": "Python 3",
   "language": "python",
   "name": "python3"
  },
  "language_info": {
   "codemirror_mode": {
    "name": "ipython",
    "version": 3
   },
   "file_extension": ".py",
   "mimetype": "text/x-python",
   "name": "python",
   "nbconvert_exporter": "python",
   "pygments_lexer": "ipython3",
   "version": "3.12.0"
  }
 },
 "nbformat": 4,
 "nbformat_minor": 2
}
