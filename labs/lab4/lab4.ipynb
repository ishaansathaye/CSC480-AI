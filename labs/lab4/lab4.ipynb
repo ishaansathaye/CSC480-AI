{
 "cells": [
  {
   "cell_type": "markdown",
   "metadata": {},
   "source": [
    "# Lab 4"
   ]
  },
  {
   "cell_type": "markdown",
   "metadata": {},
   "source": [
    "## Part 2: Implementing Basic CSP Solver"
   ]
  },
  {
   "cell_type": "code",
   "execution_count": 1,
   "metadata": {},
   "outputs": [
    {
     "name": "stdout",
     "output_type": "stream",
     "text": [
      "Sudoku Solution: {(0, 0): 1, (0, 1): 2, (0, 2): 3, (0, 3): 4, (1, 0): 2, (1, 1): 1, (1, 2): 4, (1, 3): 3, (2, 0): 3, (2, 1): 4, (2, 2): 1, (2, 3): 2, (3, 0): 4, (3, 1): 3, (3, 2): 2, (3, 3): 1}\n"
     ]
    }
   ],
   "source": [
    "class CSP:\n",
    "    def __init__(self, variables, domains, constraints):\n",
    "        self.variables = variables  # list of variables\n",
    "        self.domains = domains  # dict of domains for each variable\n",
    "        self.constraints = constraints  # list of constraints (functions)\n",
    "\n",
    "    def is_consistent(self, variable, assignment):\n",
    "        \"\"\"Check if the current assignment is consistent.\"\"\"\n",
    "        for constraint in self.constraints:\n",
    "            if not constraint(assignment):\n",
    "                return False\n",
    "        return True\n",
    "\n",
    "    def backtrack(self, assignment):\n",
    "        \"\"\"Backtrack search to find a solution.\"\"\"\n",
    "        if len(assignment) == len(self.variables):\n",
    "            return assignment\n",
    "\n",
    "        unassigned = [v for v in self.variables if v not in assignment]\n",
    "        first = unassigned[0]\n",
    "        for value in self.domains[first]:\n",
    "            local_assignment = assignment.copy()\n",
    "            local_assignment[first] = value\n",
    "            if self.is_consistent(first, local_assignment):\n",
    "                result = self.backtrack(local_assignment)\n",
    "                if result is not None:\n",
    "                    return result\n",
    "        return None\n",
    "\n",
    "    def solve(self):\n",
    "        \"\"\"Solve the CSP.\"\"\"\n",
    "        return self.backtrack({})\n",
    "\n",
    "# Example CSP: Sudoku\n",
    "def sudoku_constraints(assignment):\n",
    "    \"\"\"Define constraints for Sudoku.\"\"\"\n",
    "    for i in range(9):\n",
    "        row = [assignment.get((i, j)) for j in range(9) if (i, j) in assignment]\n",
    "        col = [assignment.get((j, i)) for j in range(9) if (j, i) in assignment]\n",
    "        if len(set(row)) != len(row) or len(set(col)) != len(col):\n",
    "            return False\n",
    "    return True\n",
    "\n",
    "# Variables and domains for a simple 4x4 Sudoku\n",
    "variables = [(i, j) for i in range(4) for j in range(4)]\n",
    "domains = {var: list(range(1, 5)) for var in variables}\n",
    "constraints = [sudoku_constraints]\n",
    "\n",
    "# Creating CSP instance\n",
    "sudoku_csp = CSP(variables, domains, constraints)\n",
    "solution = sudoku_csp.solve()\n",
    "print(\"Sudoku Solution:\", solution)"
   ]
  },
  {
   "cell_type": "markdown",
   "metadata": {},
   "source": [
    "## Part 3: Application Problem - Map Coloring"
   ]
  },
  {
   "cell_type": "markdown",
   "metadata": {},
   "source": [
    "- Wrote CSP solver for the Australia map coloring problem in `map_coloring.py`.\n",
    "- `python3 map_coloring.py` to run the solver and see 1 solution.\n",
    "- `python3 <path_to_file> --all` to see all solutions."
   ]
  }
 ],
 "metadata": {
  "kernelspec": {
   "display_name": "Python 3",
   "language": "python",
   "name": "python3"
  },
  "language_info": {
   "codemirror_mode": {
    "name": "ipython",
    "version": 3
   },
   "file_extension": ".py",
   "mimetype": "text/x-python",
   "name": "python",
   "nbconvert_exporter": "python",
   "pygments_lexer": "ipython3",
   "version": "3.12.0"
  }
 },
 "nbformat": 4,
 "nbformat_minor": 2
}
